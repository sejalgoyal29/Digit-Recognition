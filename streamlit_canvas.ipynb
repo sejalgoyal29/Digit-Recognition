{
  "nbformat": 4,
  "nbformat_minor": 0,
  "metadata": {
    "colab": {
      "name": "streamlit canvas.ipynb",
      "provenance": [],
      "collapsed_sections": []
    },
    "kernelspec": {
      "name": "python3",
      "display_name": "Python 3"
    },
    "language_info": {
      "name": "python"
    }
  },
  "cells": [
    {
      "cell_type": "code",
      "metadata": {
        "colab": {
          "base_uri": "https://localhost:8080/"
        },
        "id": "_xcuyjTUPhvf",
        "outputId": "c43affd8-5bff-4ded-fb79-642d1e520fac"
      },
      "source": [
        "!pip install keras\n",
        "!pip install streamlit --quiet\n",
        "!pip install pyngrok==4.1.1 --quiet\n",
        "!pip install streamlit-drawable-canvas --quiet\n",
        "from pyngrok import ngrok"
      ],
      "execution_count": null,
      "outputs": [
        {
          "output_type": "stream",
          "name": "stdout",
          "text": [
            "Looking in indexes: https://pypi.org/simple, https://us-python.pkg.dev/colab-wheels/public/simple/\n",
            "Requirement already satisfied: keras in /usr/local/lib/python3.7/dist-packages (2.8.0)\n",
            "\u001b[K     |████████████████████████████████| 9.1 MB 21.3 MB/s \n",
            "\u001b[K     |████████████████████████████████| 78 kB 5.3 MB/s \n",
            "\u001b[K     |████████████████████████████████| 232 kB 47.1 MB/s \n",
            "\u001b[K     |████████████████████████████████| 111 kB 52.2 MB/s \n",
            "\u001b[K     |████████████████████████████████| 164 kB 40.4 MB/s \n",
            "\u001b[K     |████████████████████████████████| 4.3 MB 11.9 MB/s \n",
            "\u001b[K     |████████████████████████████████| 181 kB 70.9 MB/s \n",
            "\u001b[K     |████████████████████████████████| 63 kB 1.6 MB/s \n",
            "\u001b[K     |████████████████████████████████| 133 kB 47.3 MB/s \n",
            "\u001b[K     |████████████████████████████████| 423 kB 47.8 MB/s \n",
            "\u001b[K     |████████████████████████████████| 132 kB 45.4 MB/s \n",
            "\u001b[K     |████████████████████████████████| 793 kB 50.6 MB/s \n",
            "\u001b[K     |████████████████████████████████| 381 kB 48.2 MB/s \n",
            "\u001b[K     |████████████████████████████████| 51 kB 7.0 MB/s \n",
            "\u001b[?25h  Building wheel for blinker (setup.py) ... \u001b[?25l\u001b[?25hdone\n",
            "  Building wheel for validators (setup.py) ... \u001b[?25l\u001b[?25hdone\n",
            "\u001b[31mERROR: pip's dependency resolver does not currently take into account all the packages that are installed. This behaviour is the source of the following dependency conflicts.\n",
            "nbclient 0.6.4 requires traitlets>=5.2.2, but you have traitlets 5.1.1 which is incompatible.\n",
            "jupyter-console 5.2.0 requires prompt-toolkit<2.0.0,>=1.0.0, but you have prompt-toolkit 3.0.30 which is incompatible.\n",
            "google-colab 1.0.0 requires ipykernel~=4.10, but you have ipykernel 6.15.0 which is incompatible.\n",
            "google-colab 1.0.0 requires ipython~=5.5.0, but you have ipython 7.34.0 which is incompatible.\n",
            "google-colab 1.0.0 requires tornado~=5.1.0; python_version >= \"3.0\", but you have tornado 6.2 which is incompatible.\u001b[0m\n",
            "  Building wheel for pyngrok (setup.py) ... \u001b[?25l\u001b[?25hdone\n",
            "\u001b[K     |████████████████████████████████| 1.1 MB 27.7 MB/s \n",
            "\u001b[?25h"
          ]
        }
      ]
    },
    {
      "cell_type": "code",
      "metadata": {
        "colab": {
          "base_uri": "https://localhost:8080/"
        },
        "id": "g-RoJCLUPlhV",
        "outputId": "fb003241-d60d-47da-ad34-1d2718fdb118"
      },
      "source": [
        "%%writefile app.py\n",
        "import streamlit as st\n",
        "import cv2\n",
        "import numpy as np\n",
        "from tensorflow import keras\n",
        "model_new = keras.models.load_model('/content/minor.hdf5')\n",
        "st.title('Digit Recognizer')\n",
        "from streamlit_drawable_canvas import st_canvas\n",
        "\n",
        "# Create a canvas component\n",
        "canvas_result = st_canvas(stroke_width=10,stroke_color='#ffffff',background_color=\"#000000\",\n",
        "    height=150,width=150,drawing_mode='freedraw')\n",
        "\n",
        "# Do something interesting with the image data and paths\n",
        "if canvas_result.image_data is not None:\n",
        "    img = cv2.resize(canvas_result.image_data.astype('uint8'),(28,28))\n",
        "    rescale = cv2.resize(img,(140,140), interpolation=cv2.INTER_NEAREST)\n",
        "    st.image(rescale)\n",
        "\n",
        "\n",
        "if st.button('PREDICT'):\n",
        "  x_test =cv2.cvtColor(img, cv2.COLOR_BGR2GRAY)\n",
        "  \n",
        "  op = model_new.predict(x_test.reshape(1,28,28))\n",
        "  st.write(f'DIGIT IS: {np.argmax(op)}')\n",
        "  st.bar_chart(op[0])\n",
        "  "
      ],
      "execution_count": null,
      "outputs": [
        {
          "output_type": "stream",
          "name": "stdout",
          "text": [
            "Writing app.py\n"
          ]
        }
      ]
    },
    {
      "cell_type": "code",
      "metadata": {
        "colab": {
          "base_uri": "https://localhost:8080/",
          "height": 53
        },
        "id": "zT0GMq0APpX0",
        "outputId": "551ddf31-d5cf-4360-ebd0-4b5829275fb3"
      },
      "source": [
        "!nohup streamlit run app.py &\n",
        "url = ngrok.connect(port='8501')\n",
        "url"
      ],
      "execution_count": null,
      "outputs": [
        {
          "output_type": "stream",
          "name": "stdout",
          "text": [
            "nohup: appending output to 'nohup.out'\n"
          ]
        },
        {
          "output_type": "execute_result",
          "data": {
            "text/plain": [
              "'http://8123-35-245-70-252.ngrok.io'"
            ],
            "application/vnd.google.colaboratory.intrinsic+json": {
              "type": "string"
            }
          },
          "metadata": {},
          "execution_count": 3
        }
      ]
    },
    {
      "cell_type": "code",
      "source": [
        ""
      ],
      "metadata": {
        "id": "GLp5c_se-bxi"
      },
      "execution_count": null,
      "outputs": []
    }
  ]
}